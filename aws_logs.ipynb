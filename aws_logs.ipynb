{
 "cells": [
  {
   "cell_type": "code",
   "execution_count": 2,
   "metadata": {},
   "outputs": [],
   "source": [
    "import numpy as np\n",
    "import pandas as pd\n",
    "from datetime import datetime\n",
    "from datetime import timedelta\n",
    "import re\n",
    "from re import match\n",
    "import getpass\n",
    "import io\n",
    "import os, json\n",
    "from py2neo import Graph as GRAPHS\n"
   ]
  },
  {
   "cell_type": "code",
   "execution_count": 57,
   "metadata": {},
   "outputs": [
    {
     "name": "stdout",
     "output_type": "stream",
     "text": [
      "Index(['@timestamp', 'source.ip', 'network.verb', 'destination.port',\n",
      "       'network.total_bytes', 'network.total_packets', 'network.tcp_flags',\n",
      "       'organization.name', 'destination.ip', 'destination.geoip.country_name',\n",
      "       'message', 'Column1', 'Column2', 'Column3', 'Column4', 'Column5',\n",
      "       'source_report', 'soure.ip.intel', 'destination.ip.intel'],\n",
      "      dtype='object')\n"
     ]
    }
   ],
   "source": [
    "gov_source = pd.read_csv (r'C:\\Users\\VBAPHCColleD\\Downloads\\source_gov.csv',skip_blank_lines=True) \n",
    "gov_source.dropna(how=\"all\", inplace=True)\n",
    "print(gov_source.columns)"
   ]
  },
  {
   "cell_type": "code",
   "execution_count": 58,
   "metadata": {},
   "outputs": [
    {
     "name": "stdout",
     "output_type": "stream",
     "text": [
      "Index(['@timestamp', 'source.ip', 'network.verb', 'destination.port',\n",
      "       'network.total_bytes', 'network.total_packets', 'network.tcp_flags',\n",
      "       'organization.name', 'destination.ip', 'destination.geoip.country_name',\n",
      "       'message', 'Column1', 'Column2', 'Column3', 'Column4', 'Column5',\n",
      "       'source_report', 'soure.ip.intel', 'destination.ip.intel'],\n",
      "      dtype='object')\n"
     ]
    }
   ],
   "source": [
    "mal_source = pd.read_csv (r'C:\\Users\\user\\Downloads\\source_mal.csv',skip_blank_lines=True) \n",
    "mal_source.dropna(how=\"all\", inplace=True)\n",
    "print(mal_source.columns)"
   ]
  },
  {
   "cell_type": "code",
   "execution_count": 5,
   "metadata": {},
   "outputs": [],
   "source": [
    "graph = GRAPHS(\"bolt://localhost:7687\", user=\"neo4j\", password=\"temp\",name=\"switches\")"
   ]
  },
  {
   "cell_type": "code",
   "execution_count": 61,
   "metadata": {},
   "outputs": [
    {
     "name": "stdout",
     "output_type": "stream",
     "text": [
      "ok\n"
     ]
    }
   ],
   "source": [
    "try:\n",
    "    graph.run(\"Match () Return 1 Limit 1\")\n",
    "    print('ok')\n",
    "except Exception:\n",
    "    print('not ok')\n",
    "tx = graph.begin()\n",
    "for index, row in mal_source.iterrows():\n",
    "    tx.evaluate('''\n",
    "    MERGE (s:external_host {IP: $SourceIP})\n",
    "    MERGE (d:government_host {IP: $DestinationIP})\n",
    "    CREATE (s)-[i:session]->(d)\n",
    "    SET i.Bytes = toInteger($bytes),i.DestinationPort=$DestinationPort,i.Time=$time,i.Packets=$packets,i.soure_ip_intel=$soure_ip_intel,i.destination_ip_intel=$destination_ip_intel\n",
    "    ''', parameters = {'SourceIP': row['source.ip'], 'DestinationIP': row['destination.ip'],'DestinationPort': row['destination.port'],'packets': row['network.total_packets'],'bytes': row['network.total_bytes'],'time': row['@timestamp'],'soure_ip_intel': row['soure.ip.intel'],'destination_ip_intel': row['destination.ip.intel']})\n",
    "graph.commit(tx)  "
   ]
  },
  {
   "cell_type": "code",
   "execution_count": 60,
   "metadata": {},
   "outputs": [
    {
     "name": "stdout",
     "output_type": "stream",
     "text": [
      "ok\n"
     ]
    }
   ],
   "source": [
    "try:\n",
    "    graph.run(\"Match () Return 1 Limit 1\")\n",
    "    print('ok')\n",
    "except Exception:\n",
    "    print('not ok')\n",
    "tx = graph.begin()\n",
    "for index, row in gov_source.iterrows():\n",
    "    tx.evaluate('''\n",
    "    MERGE (s:government_host {IP: $SourceIP})\n",
    "    MERGE (d:external_host {IP:$DestinationIP})\n",
    "    CREATE (s)-[i:session]->(d)\n",
    "    SET i.Bytes = toInteger($bytes),i.DestinationPort=$DestinationPort,i.Time=$time,i.Packets=$packets,i.soure_ip_intel=$soure_ip_intel,i.destination_ip_intel=$destination_ip_intel\n",
    "    ''', parameters = {'SourceIP': row['source.ip'], 'DestinationIP': row['destination.ip'],'DestinationPort': row['destination.port'],'packets': row['network.total_packets'],'bytes': row['network.total_bytes'],'time': row['@timestamp'],'soure_ip_intel': row['soure.ip.intel'],'destination_ip_intel': row['destination.ip.intel']})\n",
    "graph.commit(tx)  "
   ]
  },
  {
   "cell_type": "code",
   "execution_count": 59,
   "metadata": {},
   "outputs": [
    {
     "name": "stdout",
     "output_type": "stream",
     "text": [
      "ok\n"
     ]
    }
   ],
   "source": [
    "try:\n",
    "    graph.run(\"Match () Return 1 Limit 1\")\n",
    "    print('ok')\n",
    "except Exception:\n",
    "    print('not ok')\n",
    "my_node = graph.run(\"MATCH (n) DETACH DELETE n\")"
   ]
  }
 ],
 "metadata": {
  "kernelspec": {
   "display_name": "Python 3",
   "language": "python",
   "name": "python3"
  },
  "language_info": {
   "codemirror_mode": {
    "name": "ipython",
    "version": 3
   },
   "file_extension": ".py",
   "mimetype": "text/x-python",
   "name": "python",
   "nbconvert_exporter": "python",
   "pygments_lexer": "ipython3",
   "version": "3.9.13 (tags/v3.9.13:6de2ca5, May 17 2022, 16:36:42) [MSC v.1929 64 bit (AMD64)]"
  },
  "orig_nbformat": 4,
  "vscode": {
   "interpreter": {
    "hash": "202e4dd1e8815464a272cce09a7c37b9922276ddad2206b61931d9f320da2ee4"
   }
  }
 },
 "nbformat": 4,
 "nbformat_minor": 2
}
